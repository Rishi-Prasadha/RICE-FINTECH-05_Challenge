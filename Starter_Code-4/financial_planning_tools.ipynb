{
 "cells": [
  {
   "cell_type": "markdown",
   "metadata": {},
   "source": [
    "# Financial Planning with APIs and Simulations\n",
    "\n",
    "In this Challenge, you’ll create two financial analysis tools by using a single Jupyter notebook:\n",
    "\n",
    "Part 1: A financial planner for emergencies. The members will be able to use this tool to visualize their current savings. The members can then determine if they have enough reserves for an emergency fund.\n",
    "\n",
    "Part 2: A financial planner for retirement. This tool will forecast the performance of their retirement portfolio in 30 years. To do this, the tool will make an Alpaca API call via the Alpaca SDK to get historical price data for use in Monte Carlo simulations.\n",
    "\n",
    "You’ll use the information from the Monte Carlo simulation to answer questions about the portfolio in your Jupyter notebook.\n",
    "\n"
   ]
  },
  {
   "cell_type": "code",
   "execution_count": 1,
   "metadata": {},
   "outputs": [],
   "source": [
    "# Import the required libraries and dependencies\n",
    "import os\n",
    "import requests\n",
    "import json\n",
    "import pandas as pd\n",
    "from dotenv import load_dotenv\n",
    "import alpaca_trade_api as tradeapi\n",
    "from MCForecastTools import MCSimulation\n",
    "%matplotlib inline"
   ]
  },
  {
   "cell_type": "code",
   "execution_count": 2,
   "metadata": {},
   "outputs": [
    {
     "data": {
      "text/plain": [
       "True"
      ]
     },
     "execution_count": 2,
     "metadata": {},
     "output_type": "execute_result"
    }
   ],
   "source": [
    "# Load the environment variables from the .env file\n",
    "#by calling the load_dotenv function\n",
    "load_dotenv()"
   ]
  },
  {
   "cell_type": "markdown",
   "metadata": {},
   "source": [
    "## Part 1: Create a Financial Planner for Emergencies"
   ]
  },
  {
   "cell_type": "markdown",
   "metadata": {},
   "source": [
    "### Evaluate the Cryptocurrency Wallet by Using the Requests Library\n",
    "\n",
    "In this section, you’ll determine the current value of a member’s cryptocurrency wallet. You’ll collect the current prices for the Bitcoin and Ethereum cryptocurrencies by using the Python Requests library. For the prototype, you’ll assume that the member holds the 1.2 Bitcoins (BTC) and 5.3 Ethereum coins (ETH). To do all this, complete the following steps:\n",
    "\n",
    "1. Create a variable named `monthly_income`, and set its value to `12000`.\n",
    "\n",
    "2. Use the Requests library to get the current price (in US dollars) of Bitcoin (BTC) and Ethereum (ETH) by using the API endpoints that the starter code supplies.\n",
    "\n",
    "3. Navigate the JSON response object to access the current price of each coin, and store each in a variable.\n",
    "\n",
    "    > **Hint** Note the specific identifier for each cryptocurrency in the API JSON response. The Bitcoin identifier is `1`, and the Ethereum identifier is `1027`.\n",
    "\n",
    "4. Calculate the value, in US dollars, of the current amount of each cryptocurrency and of the entire cryptocurrency wallet.\n",
    "\n"
   ]
  },
  {
   "cell_type": "code",
   "execution_count": 3,
   "metadata": {},
   "outputs": [],
   "source": [
    "# The current number of coins for each cryptocurrency asset held in the portfolio.\n",
    "btc_coins = 1.2\n",
    "eth_coins = 5.3"
   ]
  },
  {
   "cell_type": "markdown",
   "metadata": {},
   "source": [
    "#### Step 1: Create a variable named `monthly_income`, and set its value to `12000`."
   ]
  },
  {
   "cell_type": "code",
   "execution_count": 4,
   "metadata": {},
   "outputs": [],
   "source": [
    "# The monthly amount for the member's household income\n",
    "# YOUR CODE HERE\n",
    "monthly_income = 12000"
   ]
  },
  {
   "cell_type": "markdown",
   "metadata": {},
   "source": [
    "#### Review the endpoint URLs for the API calls to Free Crypto API in order to get the current pricing information for both BTC and ETH."
   ]
  },
  {
   "cell_type": "code",
   "execution_count": 5,
   "metadata": {},
   "outputs": [],
   "source": [
    "# The Free Crypto API Call endpoint URLs for the held cryptocurrency assets\n",
    "btc_url = \"https://api.alternative.me/v2/ticker/Bitcoin/?convert=USD\"\n",
    "eth_url = \"https://api.alternative.me/v2/ticker/Ethereum/?convert=USD\""
   ]
  },
  {
   "cell_type": "markdown",
   "metadata": {},
   "source": [
    "#### Step 2. Use the Requests library to get the current price (in US dollars) of Bitcoin (BTC) and Ethereum (ETH) by using the API endpoints that the starter code supplied."
   ]
  },
  {
   "cell_type": "code",
   "execution_count": 6,
   "metadata": {},
   "outputs": [
    {
     "name": "stdout",
     "output_type": "stream",
     "text": [
      "{\n",
      "    \"data\": {\n",
      "        \"1\": {\n",
      "            \"circulating_supply\": 19092118,\n",
      "            \"id\": 1,\n",
      "            \"last_updated\": 1657651460,\n",
      "            \"max_supply\": 21000000,\n",
      "            \"name\": \"Bitcoin\",\n",
      "            \"quotes\": {\n",
      "                \"USD\": {\n",
      "                    \"market_cap\": 378394928047,\n",
      "                    \"percent_change_1h\": -0.382488236661946,\n",
      "                    \"percent_change_24h\": -4.23216174039004,\n",
      "                    \"percent_change_7d\": -2.19777094249184,\n",
      "                    \"percentage_change_1h\": -0.382488236661946,\n",
      "                    \"percentage_change_24h\": -4.23216174039004,\n",
      "                    \"percentage_change_7d\": -2.19777094249184,\n",
      "                    \"price\": 19811.81,\n",
      "                    \"volume_24h\": 21864618051\n",
      "                }\n",
      "            },\n",
      "            \"rank\": 1,\n",
      "            \"symbol\": \"BTC\",\n",
      "            \"total_supply\": 19092118,\n",
      "            \"website_slug\": \"bitcoin\"\n",
      "        }\n",
      "    },\n",
      "    \"metadata\": {\n",
      "        \"error\": null,\n",
      "        \"num_cryptocurrencies\": 3116,\n",
      "        \"timestamp\": 1657651460\n",
      "    }\n",
      "}\n"
     ]
    }
   ],
   "source": [
    "# Using the Python requests library, make an API call to access the current price of BTC\n",
    "btc_response = requests.get(btc_url).json()\n",
    "\n",
    "# Use the json.dumps function to review the response data from the API call\n",
    "# Use the indent and sort_keys parameters to make the response object readable\n",
    "# YOUR CODE HERE\n",
    "\n",
    "print(json.dumps(btc_response, indent=4, sort_keys=True))"
   ]
  },
  {
   "cell_type": "code",
   "execution_count": 7,
   "metadata": {},
   "outputs": [
    {
     "name": "stdout",
     "output_type": "stream",
     "text": [
      "{\n",
      "    \"data\": {\n",
      "        \"1027\": {\n",
      "            \"circulating_supply\": 119655029,\n",
      "            \"id\": 1027,\n",
      "            \"last_updated\": 1657651463,\n",
      "            \"max_supply\": 119655285,\n",
      "            \"name\": \"Ethereum\",\n",
      "            \"quotes\": {\n",
      "                \"USD\": {\n",
      "                    \"market_cap\": 127954214524,\n",
      "                    \"percent_change_1h\": -0.748972393356159,\n",
      "                    \"percent_change_24h\": -7.47977044436902,\n",
      "                    \"percent_change_7d\": -7.27002622704962,\n",
      "                    \"percentage_change_1h\": -0.748972393356159,\n",
      "                    \"percentage_change_24h\": -7.47977044436902,\n",
      "                    \"percentage_change_7d\": -7.27002622704962,\n",
      "                    \"price\": 1069.5,\n",
      "                    \"volume_24h\": 12413576135\n",
      "                }\n",
      "            },\n",
      "            \"rank\": 2,\n",
      "            \"symbol\": \"ETH\",\n",
      "            \"total_supply\": 119655029,\n",
      "            \"website_slug\": \"ethereum\"\n",
      "        }\n",
      "    },\n",
      "    \"metadata\": {\n",
      "        \"error\": null,\n",
      "        \"num_cryptocurrencies\": 3116,\n",
      "        \"timestamp\": 1657651463\n",
      "    }\n",
      "}\n"
     ]
    }
   ],
   "source": [
    "# Using the Python requests library, make an API call to access the current price ETH\n",
    "eth_response = requests.get(eth_url).json()\n",
    "\n",
    "# Use the json.dumps function to review the response data from the API call\n",
    "# Use the indent and sort_keys parameters to make the response object readable\n",
    "# YOUR CODE HERE\n",
    "print(json.dumps(eth_response, indent=4, sort_keys=True))"
   ]
  },
  {
   "cell_type": "markdown",
   "metadata": {},
   "source": [
    "#### Step 3: Navigate the JSON response object to access the current price of each coin, and store each in a variable."
   ]
  },
  {
   "cell_type": "code",
   "execution_count": 8,
   "metadata": {},
   "outputs": [
    {
     "data": {
      "text/plain": [
       "'$19811.81'"
      ]
     },
     "metadata": {},
     "output_type": "display_data"
    }
   ],
   "source": [
    "# Navigate the BTC response object to access the current price of BTC\n",
    "btc_price = btc_response[\"data\"][\"1\"][\"quotes\"][\"USD\"][\"price\"]\n",
    "\n",
    "# Print the current price of BTC\n",
    "# YOUR CODE HERE\n",
    "\n",
    "display(f\"${btc_price}\")"
   ]
  },
  {
   "cell_type": "code",
   "execution_count": 9,
   "metadata": {},
   "outputs": [
    {
     "data": {
      "text/plain": [
       "'$1069.5'"
      ]
     },
     "metadata": {},
     "output_type": "display_data"
    }
   ],
   "source": [
    "# Navigate the BTC response object to access the current price of ETH\n",
    "eth_price = eth_response[\"data\"][\"1027\"][\"quotes\"][\"USD\"][\"price\"]\n",
    "\n",
    "# Print the current price of ETH\n",
    "# YOUR CODE HERE\n",
    "\n",
    "display(f\"${eth_price}\")"
   ]
  },
  {
   "cell_type": "markdown",
   "metadata": {},
   "source": [
    "### Step 4: Calculate the value, in US dollars, of the current amount of each cryptocurrency and of the entire cryptocurrency wallet."
   ]
  },
  {
   "cell_type": "code",
   "execution_count": 10,
   "metadata": {},
   "outputs": [
    {
     "data": {
      "text/plain": [
       "'$ 23774.17'"
      ]
     },
     "metadata": {},
     "output_type": "display_data"
    }
   ],
   "source": [
    "# Compute the current value of the BTC holding \n",
    "btc_value = btc_coins * btc_price\n",
    "\n",
    "# Print current value of your holding in BTC\n",
    "# YOUR CODE HERE\n",
    "\n",
    "display(f\"${btc_value: .2f}\")"
   ]
  },
  {
   "cell_type": "code",
   "execution_count": 11,
   "metadata": {},
   "outputs": [
    {
     "data": {
      "text/plain": [
       "'$ 5668.35'"
      ]
     },
     "metadata": {},
     "output_type": "display_data"
    }
   ],
   "source": [
    "# Compute the current value of the ETH holding \n",
    "eth_value = eth_coins * eth_price\n",
    "\n",
    "# Print current value of your holding in ETH\n",
    "# YOUR CODE HERE\n",
    "display(f\"${eth_value: .2f}\")"
   ]
  },
  {
   "cell_type": "code",
   "execution_count": 12,
   "metadata": {},
   "outputs": [
    {
     "data": {
      "text/plain": [
       "'$ 29442.52'"
      ]
     },
     "metadata": {},
     "output_type": "display_data"
    }
   ],
   "source": [
    "# Compute the total value of the cryptocurrency wallet\n",
    "# Add the value of the BTC holding to the value of the ETH holding\n",
    "total_crypto_wallet = btc_value + eth_value\n",
    "\n",
    "# Print current cryptocurrency wallet balance\n",
    "# YOUR CODE HERE\n",
    "\n",
    "display(f\"${total_crypto_wallet: .2f}\")"
   ]
  },
  {
   "cell_type": "markdown",
   "metadata": {},
   "source": [
    "### Evaluate the Stock and Bond Holdings by Using the Alpaca SDK\n",
    "\n",
    "In this section, you’ll determine the current value of a member’s stock and bond holdings. You’ll make an API call to Alpaca via the Alpaca SDK to get the current closing prices of the SPDR S&P 500 ETF Trust (ticker: SPY) and of the iShares Core US Aggregate Bond ETF (ticker: AGG). For the prototype, assume that the member holds 110 shares of SPY, which represents the stock portion of their portfolio, and 200 shares of AGG, which represents the bond portion. To do all this, complete the following steps:\n",
    "\n",
    "1. In the `Starter_Code` folder, create an environment file (`.env`) to store the values of your Alpaca API key and Alpaca secret key.\n",
    "\n",
    "2. Set the variables for the Alpaca API and secret keys. Using the Alpaca SDK, create the Alpaca `tradeapi.REST` object. In this object, include the parameters for the Alpaca API key, the secret key, and the version number.\n",
    "\n",
    "3. Set the following parameters for the Alpaca API call:\n",
    "\n",
    "    - `tickers`: Use the tickers for the member’s stock and bond holdings.\n",
    "\n",
    "    - `timeframe`: Use a time frame of one day.\n",
    "\n",
    "    - `start_date` and `end_date`: Use the same date for these parameters, and format them with the date of the previous weekday (or `2020-08-07`). This is because you want the one closing price for the most-recent trading day.\n",
    "\n",
    "4. Get the current closing prices for `SPY` and `AGG` by using the Alpaca `get_bars` function. Format the response as a Pandas DataFrame by including the `df` property at the end of the `get_bars` function.\n",
    "\n",
    "5. Navigating the Alpaca response DataFrame, select the `SPY` and `AGG` closing prices, and store them as variables.\n",
    "\n",
    "6. Calculate the value, in US dollars, of the current amount of shares in each of the stock and bond portions of the portfolio, and print the results.\n"
   ]
  },
  {
   "cell_type": "markdown",
   "metadata": {},
   "source": [
    "#### Review the total number of shares held in both (SPY) and (AGG)."
   ]
  },
  {
   "cell_type": "code",
   "execution_count": 13,
   "metadata": {},
   "outputs": [],
   "source": [
    "# Current amount of shares held in both the stock (SPY) and bond (AGG) portion of the portfolio.\n",
    "spy_shares = 110\n",
    "agg_shares = 200\n"
   ]
  },
  {
   "cell_type": "markdown",
   "metadata": {},
   "source": [
    "#### Step 1: In the `Starter_Code` folder, create an environment file (`.env`) to store the values of your Alpaca API key and Alpaca secret key."
   ]
  },
  {
   "cell_type": "markdown",
   "metadata": {},
   "source": [
    "#### Step 2: Set the variables for the Alpaca API and secret keys. Using the Alpaca SDK, create the Alpaca `tradeapi.REST` object. In this object, include the parameters for the Alpaca API key, the secret key, and the version number."
   ]
  },
  {
   "cell_type": "code",
   "execution_count": 14,
   "metadata": {},
   "outputs": [
    {
     "data": {
      "text/plain": [
       "str"
      ]
     },
     "metadata": {},
     "output_type": "display_data"
    },
    {
     "data": {
      "text/plain": [
       "str"
      ]
     },
     "metadata": {},
     "output_type": "display_data"
    }
   ],
   "source": [
    "# Set the variables for the Alpaca API and secret keys\n",
    "# YOUR CODE HERE\n",
    "\n",
    "alpaca_api_key = os.getenv(\"ALPACA_API_KEY\")\n",
    "alpaca_secret_key = os.getenv(\"ALPACA_SECRET_KEY\")\n",
    "\n",
    "display(type(alpaca_api_key))\n",
    "display(type(alpaca_secret_key))\n",
    "# Create the Alpaca tradeapi.REST object\n",
    "# YOUR CODE HERE\n",
    "\n",
    "alpaca = tradeapi.REST(\n",
    "    alpaca_api_key,\n",
    "    alpaca_secret_key,\n",
    "    api_version=\"v2\"\n",
    ")\n"
   ]
  },
  {
   "cell_type": "markdown",
   "metadata": {},
   "source": [
    "#### Step 3: Set the following parameters for the Alpaca API call:\n",
    "\n",
    "- `tickers`: Use the tickers for the member’s stock and bond holdings.\n",
    "\n",
    "- `timeframe`: Use a time frame of one day.\n",
    "\n",
    "- `start_date` and `end_date`: Use the same date for these parameters, and format them with the date of the previous weekday (or `2020-08-07`). This is because you want the one closing price for the most-recent trading day.\n"
   ]
  },
  {
   "cell_type": "code",
   "execution_count": 20,
   "metadata": {},
   "outputs": [
    {
     "data": {
      "text/plain": [
       "'2020-08-07T00:00:00-04:00'"
      ]
     },
     "metadata": {},
     "output_type": "display_data"
    },
    {
     "data": {
      "text/plain": [
       "'2020-08-07T00:00:00-04:00'"
      ]
     },
     "metadata": {},
     "output_type": "display_data"
    }
   ],
   "source": [
    "# Set the tickers for both the bond and stock portion of the portfolio\n",
    "# YOUR CODE HERE\n",
    "\n",
    "tickers = [\"SPY\", \"AGG\"]\n",
    "\n",
    "# Set timeframe to 1Day\n",
    "# YOUR CODE HERE\n",
    "\n",
    "timeframe = \"1D\"\n",
    "\n",
    "# Format current date as ISO format\n",
    "# Set both the start and end date at the date of your prior weekday \n",
    "# This will give you the closing price of the previous trading day\n",
    "# Alternatively you can use a start and end date of 2020-08-07\n",
    "# YOUR CODE HERE\n",
    "# YOUR CODE HERE\n",
    "\n",
    "start_date = pd.Timestamp(\"2020-08-07\", tz=\"America/New_York\").isoformat()\n",
    "end_date = start_date\n",
    "\n",
    "display(start_date)\n",
    "display(end_date)"
   ]
  },
  {
   "cell_type": "markdown",
   "metadata": {},
   "source": [
    "#### Step 4: Get the current closing prices for `SPY` and `AGG` by using the Alpaca `get_bars` function. Format the response as a Pandas DataFrame by including the `df` property at the end of the `get_bars` function."
   ]
  },
  {
   "cell_type": "code",
   "execution_count": 21,
   "metadata": {},
   "outputs": [
    {
     "ename": "UnicodeEncodeError",
     "evalue": "'latin-1' codec can't encode character '\\u201c' in position 0: ordinal not in range(256)",
     "output_type": "error",
     "traceback": [
      "\u001b[0;31m---------------------------------------------------------------------------\u001b[0m",
      "\u001b[0;31mUnicodeEncodeError\u001b[0m                        Traceback (most recent call last)",
      "\u001b[1;32m/Users/RishiPrasadha/Desktop/FinTech-Workspace/Module_Challenges/RICE-FINTECH-05_Challenge/Starter_Code-4/financial_planning_tools.ipynb Cell 30'\u001b[0m in \u001b[0;36m<cell line: 7>\u001b[0;34m()\u001b[0m\n\u001b[1;32m      <a href='vscode-notebook-cell:/Users/RishiPrasadha/Desktop/FinTech-Workspace/Module_Challenges/RICE-FINTECH-05_Challenge/Starter_Code-4/financial_planning_tools.ipynb#ch0000029?line=0'>1</a>\u001b[0m \u001b[39m# Use the Alpaca get_bars function to get current closing prices the portfolio\u001b[39;00m\n\u001b[1;32m      <a href='vscode-notebook-cell:/Users/RishiPrasadha/Desktop/FinTech-Workspace/Module_Challenges/RICE-FINTECH-05_Challenge/Starter_Code-4/financial_planning_tools.ipynb#ch0000029?line=1'>2</a>\u001b[0m \u001b[39m# Be sure to set the `df` property after the function to format the response object as a DataFrame\u001b[39;00m\n\u001b[1;32m      <a href='vscode-notebook-cell:/Users/RishiPrasadha/Desktop/FinTech-Workspace/Module_Challenges/RICE-FINTECH-05_Challenge/Starter_Code-4/financial_planning_tools.ipynb#ch0000029?line=2'>3</a>\u001b[0m \u001b[39m# YOUR CODE HERE\u001b[39;00m\n\u001b[1;32m      <a href='vscode-notebook-cell:/Users/RishiPrasadha/Desktop/FinTech-Workspace/Module_Challenges/RICE-FINTECH-05_Challenge/Starter_Code-4/financial_planning_tools.ipynb#ch0000029?line=3'>4</a>\u001b[0m \n\u001b[1;32m      <a href='vscode-notebook-cell:/Users/RishiPrasadha/Desktop/FinTech-Workspace/Module_Challenges/RICE-FINTECH-05_Challenge/Starter_Code-4/financial_planning_tools.ipynb#ch0000029?line=4'>5</a>\u001b[0m \u001b[39m#display(tradeapi.REST(alpaca_api_key, alpaca_secret_key, api_version=\"v2\").get_account())\u001b[39;00m\n\u001b[0;32m----> <a href='vscode-notebook-cell:/Users/RishiPrasadha/Desktop/FinTech-Workspace/Module_Challenges/RICE-FINTECH-05_Challenge/Starter_Code-4/financial_planning_tools.ipynb#ch0000029?line=6'>7</a>\u001b[0m response_df \u001b[39m=\u001b[39m alpaca\u001b[39m.\u001b[39;49mget_bars(\n\u001b[1;32m      <a href='vscode-notebook-cell:/Users/RishiPrasadha/Desktop/FinTech-Workspace/Module_Challenges/RICE-FINTECH-05_Challenge/Starter_Code-4/financial_planning_tools.ipynb#ch0000029?line=7'>8</a>\u001b[0m     tickers,\n\u001b[1;32m      <a href='vscode-notebook-cell:/Users/RishiPrasadha/Desktop/FinTech-Workspace/Module_Challenges/RICE-FINTECH-05_Challenge/Starter_Code-4/financial_planning_tools.ipynb#ch0000029?line=8'>9</a>\u001b[0m     timeframe,\n\u001b[1;32m     <a href='vscode-notebook-cell:/Users/RishiPrasadha/Desktop/FinTech-Workspace/Module_Challenges/RICE-FINTECH-05_Challenge/Starter_Code-4/financial_planning_tools.ipynb#ch0000029?line=9'>10</a>\u001b[0m     start\u001b[39m=\u001b[39;49mstart_date,\n\u001b[1;32m     <a href='vscode-notebook-cell:/Users/RishiPrasadha/Desktop/FinTech-Workspace/Module_Challenges/RICE-FINTECH-05_Challenge/Starter_Code-4/financial_planning_tools.ipynb#ch0000029?line=10'>11</a>\u001b[0m     end\u001b[39m=\u001b[39;49mend_date\n\u001b[1;32m     <a href='vscode-notebook-cell:/Users/RishiPrasadha/Desktop/FinTech-Workspace/Module_Challenges/RICE-FINTECH-05_Challenge/Starter_Code-4/financial_planning_tools.ipynb#ch0000029?line=11'>12</a>\u001b[0m )\u001b[39m.\u001b[39mdf\n\u001b[1;32m     <a href='vscode-notebook-cell:/Users/RishiPrasadha/Desktop/FinTech-Workspace/Module_Challenges/RICE-FINTECH-05_Challenge/Starter_Code-4/financial_planning_tools.ipynb#ch0000029?line=12'>13</a>\u001b[0m \u001b[39m# Reorganize the DataFrame\u001b[39;00m\n\u001b[1;32m     <a href='vscode-notebook-cell:/Users/RishiPrasadha/Desktop/FinTech-Workspace/Module_Challenges/RICE-FINTECH-05_Challenge/Starter_Code-4/financial_planning_tools.ipynb#ch0000029?line=13'>14</a>\u001b[0m \u001b[39m# Separate ticker data\u001b[39;00m\n\u001b[1;32m     <a href='vscode-notebook-cell:/Users/RishiPrasadha/Desktop/FinTech-Workspace/Module_Challenges/RICE-FINTECH-05_Challenge/Starter_Code-4/financial_planning_tools.ipynb#ch0000029?line=14'>15</a>\u001b[0m \u001b[39m# YOUR CODE HERE\u001b[39;00m\n\u001b[1;32m     <a href='vscode-notebook-cell:/Users/RishiPrasadha/Desktop/FinTech-Workspace/Module_Challenges/RICE-FINTECH-05_Challenge/Starter_Code-4/financial_planning_tools.ipynb#ch0000029?line=16'>17</a>\u001b[0m spy \u001b[39m=\u001b[39m response_df[response_df[\u001b[39m\"\u001b[39m\u001b[39msymbol\u001b[39m\u001b[39m\"\u001b[39m] \u001b[39m==\u001b[39m \u001b[39m\"\u001b[39m\u001b[39mSPY\u001b[39m\u001b[39m\"\u001b[39m]\u001b[39m.\u001b[39mdrop(\u001b[39m\"\u001b[39m\u001b[39msymbol\u001b[39m\u001b[39m\"\u001b[39m, axis\u001b[39m=\u001b[39m\u001b[39m1\u001b[39m)\n",
      "File \u001b[0;32m/opt/anaconda3/envs/dev/lib/python3.8/site-packages/alpaca_trade_api/rest.py:714\u001b[0m, in \u001b[0;36mREST.get_bars\u001b[0;34m(self, symbol, timeframe, start, end, adjustment, limit, feed, asof)\u001b[0m\n\u001b[1;32m    704\u001b[0m \u001b[39mdef\u001b[39;00m \u001b[39mget_bars\u001b[39m(\u001b[39mself\u001b[39m,\n\u001b[1;32m    705\u001b[0m              symbol: Union[\u001b[39mstr\u001b[39m, List[\u001b[39mstr\u001b[39m]],\n\u001b[1;32m    706\u001b[0m              timeframe: TimeFrame,\n\u001b[0;32m   (...)\u001b[0m\n\u001b[1;32m    712\u001b[0m              asof: Optional[\u001b[39mstr\u001b[39m] \u001b[39m=\u001b[39m \u001b[39mNone\u001b[39;00m,\n\u001b[1;32m    713\u001b[0m              ) \u001b[39m-\u001b[39m\u001b[39m>\u001b[39m BarsV2:\n\u001b[0;32m--> 714\u001b[0m     bars \u001b[39m=\u001b[39m \u001b[39mlist\u001b[39;49m(\u001b[39mself\u001b[39;49m\u001b[39m.\u001b[39;49mget_bars_iter(symbol,\n\u001b[1;32m    715\u001b[0m                                    timeframe,\n\u001b[1;32m    716\u001b[0m                                    start,\n\u001b[1;32m    717\u001b[0m                                    end,\n\u001b[1;32m    718\u001b[0m                                    adjustment,\n\u001b[1;32m    719\u001b[0m                                    limit,\n\u001b[1;32m    720\u001b[0m                                    feed\u001b[39m=\u001b[39;49mfeed,\n\u001b[1;32m    721\u001b[0m                                    asof\u001b[39m=\u001b[39;49masof,\n\u001b[1;32m    722\u001b[0m                                    raw\u001b[39m=\u001b[39;49m\u001b[39mTrue\u001b[39;49;00m))\n\u001b[1;32m    723\u001b[0m     \u001b[39mreturn\u001b[39;00m BarsV2(bars)\n",
      "File \u001b[0;32m/opt/anaconda3/envs/dev/lib/python3.8/site-packages/alpaca_trade_api/rest.py:698\u001b[0m, in \u001b[0;36mREST.get_bars_iter\u001b[0;34m(self, symbol, timeframe, start, end, adjustment, limit, feed, asof, raw)\u001b[0m\n\u001b[1;32m    680\u001b[0m \u001b[39mdef\u001b[39;00m \u001b[39mget_bars_iter\u001b[39m(\u001b[39mself\u001b[39m,\n\u001b[1;32m    681\u001b[0m                   symbol: Union[\u001b[39mstr\u001b[39m, List[\u001b[39mstr\u001b[39m]],\n\u001b[1;32m    682\u001b[0m                   timeframe: TimeFrame,\n\u001b[0;32m   (...)\u001b[0m\n\u001b[1;32m    688\u001b[0m                   asof: Optional[\u001b[39mstr\u001b[39m] \u001b[39m=\u001b[39m \u001b[39mNone\u001b[39;00m,\n\u001b[1;32m    689\u001b[0m                   raw\u001b[39m=\u001b[39m\u001b[39mFalse\u001b[39;00m) \u001b[39m-\u001b[39m\u001b[39m>\u001b[39m BarIterator:\n\u001b[1;32m    690\u001b[0m     bars \u001b[39m=\u001b[39m \u001b[39mself\u001b[39m\u001b[39m.\u001b[39m_data_get(\u001b[39m'\u001b[39m\u001b[39mbars\u001b[39m\u001b[39m'\u001b[39m, symbol,\n\u001b[1;32m    691\u001b[0m                           timeframe\u001b[39m=\u001b[39mtimeframe,\n\u001b[1;32m    692\u001b[0m                           adjustment\u001b[39m=\u001b[39madjustment,\n\u001b[0;32m   (...)\u001b[0m\n\u001b[1;32m    696\u001b[0m                           feed\u001b[39m=\u001b[39mfeed,\n\u001b[1;32m    697\u001b[0m                           asof\u001b[39m=\u001b[39masof)\n\u001b[0;32m--> 698\u001b[0m     \u001b[39mfor\u001b[39;00m bar \u001b[39min\u001b[39;00m bars:\n\u001b[1;32m    699\u001b[0m         \u001b[39mif\u001b[39;00m raw:\n\u001b[1;32m    700\u001b[0m             \u001b[39myield\u001b[39;00m bar\n",
      "File \u001b[0;32m/opt/anaconda3/envs/dev/lib/python3.8/site-packages/alpaca_trade_api/rest.py:585\u001b[0m, in \u001b[0;36mREST._data_get\u001b[0;34m(self, endpoint, symbol_or_symbols, api_version, endpoint_base, resp_grouped_by_symbol, page_limit, feed, asof, **kwargs)\u001b[0m\n\u001b[1;32m    583\u001b[0m \u001b[39mif\u001b[39;00m endpoint:\n\u001b[1;32m    584\u001b[0m     path \u001b[39m+\u001b[39m\u001b[39m=\u001b[39m \u001b[39mf\u001b[39m\u001b[39m'\u001b[39m\u001b[39m/\u001b[39m\u001b[39m{\u001b[39;00mendpoint\u001b[39m}\u001b[39;00m\u001b[39m'\u001b[39m\n\u001b[0;32m--> 585\u001b[0m resp \u001b[39m=\u001b[39m \u001b[39mself\u001b[39;49m\u001b[39m.\u001b[39;49mdata_get(path, data\u001b[39m=\u001b[39;49mdata, feed\u001b[39m=\u001b[39;49mfeed,\n\u001b[1;32m    586\u001b[0m                      api_version\u001b[39m=\u001b[39;49mapi_version)\n\u001b[1;32m    587\u001b[0m \u001b[39mif\u001b[39;00m \u001b[39mnot\u001b[39;00m resp_grouped_by_symbol:\n\u001b[1;32m    588\u001b[0m     k \u001b[39m=\u001b[39m endpoint \u001b[39mor\u001b[39;00m endpoint_base\n",
      "File \u001b[0;32m/opt/anaconda3/envs/dev/lib/python3.8/site-packages/alpaca_trade_api/rest.py:270\u001b[0m, in \u001b[0;36mREST.data_get\u001b[0;34m(self, path, data, feed, api_version)\u001b[0m\n\u001b[1;32m    268\u001b[0m     data \u001b[39m=\u001b[39m data \u001b[39mor\u001b[39;00m {}\n\u001b[1;32m    269\u001b[0m     data[\u001b[39m'\u001b[39m\u001b[39mfeed\u001b[39m\u001b[39m'\u001b[39m] \u001b[39m=\u001b[39m feed\n\u001b[0;32m--> 270\u001b[0m \u001b[39mreturn\u001b[39;00m \u001b[39mself\u001b[39;49m\u001b[39m.\u001b[39;49m_request(\n\u001b[1;32m    271\u001b[0m     \u001b[39m'\u001b[39;49m\u001b[39mGET\u001b[39;49m\u001b[39m'\u001b[39;49m, path, data, base_url\u001b[39m=\u001b[39;49mbase_url, api_version\u001b[39m=\u001b[39;49mapi_version,\n\u001b[1;32m    272\u001b[0m )\n",
      "File \u001b[0;32m/opt/anaconda3/envs/dev/lib/python3.8/site-packages/alpaca_trade_api/rest.py:213\u001b[0m, in \u001b[0;36mREST._request\u001b[0;34m(self, method, path, data, base_url, api_version)\u001b[0m\n\u001b[1;32m    211\u001b[0m \u001b[39mwhile\u001b[39;00m retry \u001b[39m>\u001b[39m\u001b[39m=\u001b[39m \u001b[39m0\u001b[39m:\n\u001b[1;32m    212\u001b[0m     \u001b[39mtry\u001b[39;00m:\n\u001b[0;32m--> 213\u001b[0m         \u001b[39mreturn\u001b[39;00m \u001b[39mself\u001b[39;49m\u001b[39m.\u001b[39;49m_one_request(method, url, opts, retry)\n\u001b[1;32m    214\u001b[0m     \u001b[39mexcept\u001b[39;00m RetryException:\n\u001b[1;32m    215\u001b[0m         retry_wait \u001b[39m=\u001b[39m \u001b[39mself\u001b[39m\u001b[39m.\u001b[39m_retry_wait\n",
      "File \u001b[0;32m/opt/anaconda3/envs/dev/lib/python3.8/site-packages/alpaca_trade_api/rest.py:232\u001b[0m, in \u001b[0;36mREST._one_request\u001b[0;34m(self, method, url, opts, retry)\u001b[0m\n\u001b[1;32m    225\u001b[0m \u001b[39m\"\"\"\u001b[39;00m\n\u001b[1;32m    226\u001b[0m \u001b[39mPerform one request, possibly raising RetryException in the case\u001b[39;00m\n\u001b[1;32m    227\u001b[0m \u001b[39mthe response is 429. Otherwise, if error text contain \"code\" string,\u001b[39;00m\n\u001b[1;32m    228\u001b[0m \u001b[39mthen it decodes to json object and returns APIError.\u001b[39;00m\n\u001b[1;32m    229\u001b[0m \u001b[39mReturns the body json in the 200 status.\u001b[39;00m\n\u001b[1;32m    230\u001b[0m \u001b[39m\"\"\"\u001b[39;00m\n\u001b[1;32m    231\u001b[0m retry_codes \u001b[39m=\u001b[39m \u001b[39mself\u001b[39m\u001b[39m.\u001b[39m_retry_codes\n\u001b[0;32m--> 232\u001b[0m resp \u001b[39m=\u001b[39m \u001b[39mself\u001b[39;49m\u001b[39m.\u001b[39;49m_session\u001b[39m.\u001b[39;49mrequest(method, url, \u001b[39m*\u001b[39;49m\u001b[39m*\u001b[39;49mopts)\n\u001b[1;32m    233\u001b[0m \u001b[39mtry\u001b[39;00m:\n\u001b[1;32m    234\u001b[0m     resp\u001b[39m.\u001b[39mraise_for_status()\n",
      "File \u001b[0;32m/opt/anaconda3/envs/dev/lib/python3.8/site-packages/requests/sessions.py:529\u001b[0m, in \u001b[0;36mSession.request\u001b[0;34m(self, method, url, params, data, headers, cookies, files, auth, timeout, allow_redirects, proxies, hooks, stream, verify, cert, json)\u001b[0m\n\u001b[1;32m    524\u001b[0m send_kwargs \u001b[39m=\u001b[39m {\n\u001b[1;32m    525\u001b[0m     \u001b[39m'\u001b[39m\u001b[39mtimeout\u001b[39m\u001b[39m'\u001b[39m: timeout,\n\u001b[1;32m    526\u001b[0m     \u001b[39m'\u001b[39m\u001b[39mallow_redirects\u001b[39m\u001b[39m'\u001b[39m: allow_redirects,\n\u001b[1;32m    527\u001b[0m }\n\u001b[1;32m    528\u001b[0m send_kwargs\u001b[39m.\u001b[39mupdate(settings)\n\u001b[0;32m--> 529\u001b[0m resp \u001b[39m=\u001b[39m \u001b[39mself\u001b[39;49m\u001b[39m.\u001b[39;49msend(prep, \u001b[39m*\u001b[39;49m\u001b[39m*\u001b[39;49msend_kwargs)\n\u001b[1;32m    531\u001b[0m \u001b[39mreturn\u001b[39;00m resp\n",
      "File \u001b[0;32m/opt/anaconda3/envs/dev/lib/python3.8/site-packages/requests/sessions.py:645\u001b[0m, in \u001b[0;36mSession.send\u001b[0;34m(self, request, **kwargs)\u001b[0m\n\u001b[1;32m    642\u001b[0m start \u001b[39m=\u001b[39m preferred_clock()\n\u001b[1;32m    644\u001b[0m \u001b[39m# Send the request\u001b[39;00m\n\u001b[0;32m--> 645\u001b[0m r \u001b[39m=\u001b[39m adapter\u001b[39m.\u001b[39;49msend(request, \u001b[39m*\u001b[39;49m\u001b[39m*\u001b[39;49mkwargs)\n\u001b[1;32m    647\u001b[0m \u001b[39m# Total elapsed time of the request (approximately)\u001b[39;00m\n\u001b[1;32m    648\u001b[0m elapsed \u001b[39m=\u001b[39m preferred_clock() \u001b[39m-\u001b[39m start\n",
      "File \u001b[0;32m/opt/anaconda3/envs/dev/lib/python3.8/site-packages/requests/adapters.py:440\u001b[0m, in \u001b[0;36mHTTPAdapter.send\u001b[0;34m(self, request, stream, timeout, verify, cert, proxies)\u001b[0m\n\u001b[1;32m    438\u001b[0m \u001b[39mtry\u001b[39;00m:\n\u001b[1;32m    439\u001b[0m     \u001b[39mif\u001b[39;00m \u001b[39mnot\u001b[39;00m chunked:\n\u001b[0;32m--> 440\u001b[0m         resp \u001b[39m=\u001b[39m conn\u001b[39m.\u001b[39;49murlopen(\n\u001b[1;32m    441\u001b[0m             method\u001b[39m=\u001b[39;49mrequest\u001b[39m.\u001b[39;49mmethod,\n\u001b[1;32m    442\u001b[0m             url\u001b[39m=\u001b[39;49murl,\n\u001b[1;32m    443\u001b[0m             body\u001b[39m=\u001b[39;49mrequest\u001b[39m.\u001b[39;49mbody,\n\u001b[1;32m    444\u001b[0m             headers\u001b[39m=\u001b[39;49mrequest\u001b[39m.\u001b[39;49mheaders,\n\u001b[1;32m    445\u001b[0m             redirect\u001b[39m=\u001b[39;49m\u001b[39mFalse\u001b[39;49;00m,\n\u001b[1;32m    446\u001b[0m             assert_same_host\u001b[39m=\u001b[39;49m\u001b[39mFalse\u001b[39;49;00m,\n\u001b[1;32m    447\u001b[0m             preload_content\u001b[39m=\u001b[39;49m\u001b[39mFalse\u001b[39;49;00m,\n\u001b[1;32m    448\u001b[0m             decode_content\u001b[39m=\u001b[39;49m\u001b[39mFalse\u001b[39;49;00m,\n\u001b[1;32m    449\u001b[0m             retries\u001b[39m=\u001b[39;49m\u001b[39mself\u001b[39;49m\u001b[39m.\u001b[39;49mmax_retries,\n\u001b[1;32m    450\u001b[0m             timeout\u001b[39m=\u001b[39;49mtimeout\n\u001b[1;32m    451\u001b[0m         )\n\u001b[1;32m    453\u001b[0m     \u001b[39m# Send the request.\u001b[39;00m\n\u001b[1;32m    454\u001b[0m     \u001b[39melse\u001b[39;00m:\n\u001b[1;32m    455\u001b[0m         \u001b[39mif\u001b[39;00m \u001b[39mhasattr\u001b[39m(conn, \u001b[39m'\u001b[39m\u001b[39mproxy_pool\u001b[39m\u001b[39m'\u001b[39m):\n",
      "File \u001b[0;32m/opt/anaconda3/envs/dev/lib/python3.8/site-packages/urllib3/connectionpool.py:703\u001b[0m, in \u001b[0;36mHTTPConnectionPool.urlopen\u001b[0;34m(self, method, url, body, headers, retries, redirect, assert_same_host, timeout, pool_timeout, release_conn, chunked, body_pos, **response_kw)\u001b[0m\n\u001b[1;32m    700\u001b[0m     \u001b[39mself\u001b[39m\u001b[39m.\u001b[39m_prepare_proxy(conn)\n\u001b[1;32m    702\u001b[0m \u001b[39m# Make the request on the httplib connection object.\u001b[39;00m\n\u001b[0;32m--> 703\u001b[0m httplib_response \u001b[39m=\u001b[39m \u001b[39mself\u001b[39;49m\u001b[39m.\u001b[39;49m_make_request(\n\u001b[1;32m    704\u001b[0m     conn,\n\u001b[1;32m    705\u001b[0m     method,\n\u001b[1;32m    706\u001b[0m     url,\n\u001b[1;32m    707\u001b[0m     timeout\u001b[39m=\u001b[39;49mtimeout_obj,\n\u001b[1;32m    708\u001b[0m     body\u001b[39m=\u001b[39;49mbody,\n\u001b[1;32m    709\u001b[0m     headers\u001b[39m=\u001b[39;49mheaders,\n\u001b[1;32m    710\u001b[0m     chunked\u001b[39m=\u001b[39;49mchunked,\n\u001b[1;32m    711\u001b[0m )\n\u001b[1;32m    713\u001b[0m \u001b[39m# If we're going to release the connection in ``finally:``, then\u001b[39;00m\n\u001b[1;32m    714\u001b[0m \u001b[39m# the response doesn't need to know about the connection. Otherwise\u001b[39;00m\n\u001b[1;32m    715\u001b[0m \u001b[39m# it will also try to release it and we'll have a double-release\u001b[39;00m\n\u001b[1;32m    716\u001b[0m \u001b[39m# mess.\u001b[39;00m\n\u001b[1;32m    717\u001b[0m response_conn \u001b[39m=\u001b[39m conn \u001b[39mif\u001b[39;00m \u001b[39mnot\u001b[39;00m release_conn \u001b[39melse\u001b[39;00m \u001b[39mNone\u001b[39;00m\n",
      "File \u001b[0;32m/opt/anaconda3/envs/dev/lib/python3.8/site-packages/urllib3/connectionpool.py:398\u001b[0m, in \u001b[0;36mHTTPConnectionPool._make_request\u001b[0;34m(self, conn, method, url, timeout, chunked, **httplib_request_kw)\u001b[0m\n\u001b[1;32m    396\u001b[0m         conn\u001b[39m.\u001b[39mrequest_chunked(method, url, \u001b[39m*\u001b[39m\u001b[39m*\u001b[39mhttplib_request_kw)\n\u001b[1;32m    397\u001b[0m     \u001b[39melse\u001b[39;00m:\n\u001b[0;32m--> 398\u001b[0m         conn\u001b[39m.\u001b[39;49mrequest(method, url, \u001b[39m*\u001b[39;49m\u001b[39m*\u001b[39;49mhttplib_request_kw)\n\u001b[1;32m    400\u001b[0m \u001b[39m# We are swallowing BrokenPipeError (errno.EPIPE) since the server is\u001b[39;00m\n\u001b[1;32m    401\u001b[0m \u001b[39m# legitimately able to close the connection after sending a valid response.\u001b[39;00m\n\u001b[1;32m    402\u001b[0m \u001b[39m# With this behaviour, the received response is still readable.\u001b[39;00m\n\u001b[1;32m    403\u001b[0m \u001b[39mexcept\u001b[39;00m \u001b[39mBrokenPipeError\u001b[39;00m:\n\u001b[1;32m    404\u001b[0m     \u001b[39m# Python 3\u001b[39;00m\n",
      "File \u001b[0;32m/opt/anaconda3/envs/dev/lib/python3.8/site-packages/urllib3/connection.py:239\u001b[0m, in \u001b[0;36mHTTPConnection.request\u001b[0;34m(self, method, url, body, headers)\u001b[0m\n\u001b[1;32m    237\u001b[0m \u001b[39mif\u001b[39;00m \u001b[39m\"\u001b[39m\u001b[39muser-agent\u001b[39m\u001b[39m\"\u001b[39m \u001b[39mnot\u001b[39;00m \u001b[39min\u001b[39;00m (six\u001b[39m.\u001b[39mensure_str(k\u001b[39m.\u001b[39mlower()) \u001b[39mfor\u001b[39;00m k \u001b[39min\u001b[39;00m headers):\n\u001b[1;32m    238\u001b[0m     headers[\u001b[39m\"\u001b[39m\u001b[39mUser-Agent\u001b[39m\u001b[39m\"\u001b[39m] \u001b[39m=\u001b[39m _get_default_user_agent()\n\u001b[0;32m--> 239\u001b[0m \u001b[39msuper\u001b[39;49m(HTTPConnection, \u001b[39mself\u001b[39;49m)\u001b[39m.\u001b[39;49mrequest(method, url, body\u001b[39m=\u001b[39;49mbody, headers\u001b[39m=\u001b[39;49mheaders)\n",
      "File \u001b[0;32m/opt/anaconda3/envs/dev/lib/python3.8/http/client.py:1256\u001b[0m, in \u001b[0;36mHTTPConnection.request\u001b[0;34m(self, method, url, body, headers, encode_chunked)\u001b[0m\n\u001b[1;32m   1253\u001b[0m \u001b[39mdef\u001b[39;00m \u001b[39mrequest\u001b[39m(\u001b[39mself\u001b[39m, method, url, body\u001b[39m=\u001b[39m\u001b[39mNone\u001b[39;00m, headers\u001b[39m=\u001b[39m{}, \u001b[39m*\u001b[39m,\n\u001b[1;32m   1254\u001b[0m             encode_chunked\u001b[39m=\u001b[39m\u001b[39mFalse\u001b[39;00m):\n\u001b[1;32m   1255\u001b[0m     \u001b[39m\"\"\"Send a complete request to the server.\"\"\"\u001b[39;00m\n\u001b[0;32m-> 1256\u001b[0m     \u001b[39mself\u001b[39;49m\u001b[39m.\u001b[39;49m_send_request(method, url, body, headers, encode_chunked)\n",
      "File \u001b[0;32m/opt/anaconda3/envs/dev/lib/python3.8/http/client.py:1297\u001b[0m, in \u001b[0;36mHTTPConnection._send_request\u001b[0;34m(self, method, url, body, headers, encode_chunked)\u001b[0m\n\u001b[1;32m   1294\u001b[0m     encode_chunked \u001b[39m=\u001b[39m \u001b[39mFalse\u001b[39;00m\n\u001b[1;32m   1296\u001b[0m \u001b[39mfor\u001b[39;00m hdr, value \u001b[39min\u001b[39;00m headers\u001b[39m.\u001b[39mitems():\n\u001b[0;32m-> 1297\u001b[0m     \u001b[39mself\u001b[39;49m\u001b[39m.\u001b[39;49mputheader(hdr, value)\n\u001b[1;32m   1298\u001b[0m \u001b[39mif\u001b[39;00m \u001b[39misinstance\u001b[39m(body, \u001b[39mstr\u001b[39m):\n\u001b[1;32m   1299\u001b[0m     \u001b[39m# RFC 2616 Section 3.7.1 says that text default has a\u001b[39;00m\n\u001b[1;32m   1300\u001b[0m     \u001b[39m# default charset of iso-8859-1.\u001b[39;00m\n\u001b[1;32m   1301\u001b[0m     body \u001b[39m=\u001b[39m _encode(body, \u001b[39m'\u001b[39m\u001b[39mbody\u001b[39m\u001b[39m'\u001b[39m)\n",
      "File \u001b[0;32m/opt/anaconda3/envs/dev/lib/python3.8/site-packages/urllib3/connection.py:224\u001b[0m, in \u001b[0;36mHTTPConnection.putheader\u001b[0;34m(self, header, *values)\u001b[0m\n\u001b[1;32m    222\u001b[0m \u001b[39m\"\"\" \"\"\"\u001b[39;00m\n\u001b[1;32m    223\u001b[0m \u001b[39mif\u001b[39;00m \u001b[39mnot\u001b[39;00m \u001b[39many\u001b[39m(\u001b[39misinstance\u001b[39m(v, \u001b[39mstr\u001b[39m) \u001b[39mand\u001b[39;00m v \u001b[39m==\u001b[39m SKIP_HEADER \u001b[39mfor\u001b[39;00m v \u001b[39min\u001b[39;00m values):\n\u001b[0;32m--> 224\u001b[0m     _HTTPConnection\u001b[39m.\u001b[39;49mputheader(\u001b[39mself\u001b[39;49m, header, \u001b[39m*\u001b[39;49mvalues)\n\u001b[1;32m    225\u001b[0m \u001b[39melif\u001b[39;00m six\u001b[39m.\u001b[39mensure_str(header\u001b[39m.\u001b[39mlower()) \u001b[39mnot\u001b[39;00m \u001b[39min\u001b[39;00m SKIPPABLE_HEADERS:\n\u001b[1;32m    226\u001b[0m     \u001b[39mraise\u001b[39;00m \u001b[39mValueError\u001b[39;00m(\n\u001b[1;32m    227\u001b[0m         \u001b[39m\"\u001b[39m\u001b[39murllib3.util.SKIP_HEADER only supports \u001b[39m\u001b[39m'\u001b[39m\u001b[39m%s\u001b[39;00m\u001b[39m'\u001b[39m\u001b[39m\"\u001b[39m\n\u001b[1;32m    228\u001b[0m         \u001b[39m%\u001b[39m (\u001b[39m\"\u001b[39m\u001b[39m'\u001b[39m\u001b[39m, \u001b[39m\u001b[39m'\u001b[39m\u001b[39m\"\u001b[39m\u001b[39m.\u001b[39mjoin(\u001b[39mmap\u001b[39m(\u001b[39mstr\u001b[39m\u001b[39m.\u001b[39mtitle, \u001b[39msorted\u001b[39m(SKIPPABLE_HEADERS))),)\n\u001b[1;32m    229\u001b[0m     )\n",
      "File \u001b[0;32m/opt/anaconda3/envs/dev/lib/python3.8/http/client.py:1229\u001b[0m, in \u001b[0;36mHTTPConnection.putheader\u001b[0;34m(self, header, *values)\u001b[0m\n\u001b[1;32m   1227\u001b[0m \u001b[39mfor\u001b[39;00m i, one_value \u001b[39min\u001b[39;00m \u001b[39menumerate\u001b[39m(values):\n\u001b[1;32m   1228\u001b[0m     \u001b[39mif\u001b[39;00m \u001b[39mhasattr\u001b[39m(one_value, \u001b[39m'\u001b[39m\u001b[39mencode\u001b[39m\u001b[39m'\u001b[39m):\n\u001b[0;32m-> 1229\u001b[0m         values[i] \u001b[39m=\u001b[39m one_value\u001b[39m.\u001b[39;49mencode(\u001b[39m'\u001b[39;49m\u001b[39mlatin-1\u001b[39;49m\u001b[39m'\u001b[39;49m)\n\u001b[1;32m   1230\u001b[0m     \u001b[39melif\u001b[39;00m \u001b[39misinstance\u001b[39m(one_value, \u001b[39mint\u001b[39m):\n\u001b[1;32m   1231\u001b[0m         values[i] \u001b[39m=\u001b[39m \u001b[39mstr\u001b[39m(one_value)\u001b[39m.\u001b[39mencode(\u001b[39m'\u001b[39m\u001b[39mascii\u001b[39m\u001b[39m'\u001b[39m)\n",
      "\u001b[0;31mUnicodeEncodeError\u001b[0m: 'latin-1' codec can't encode character '\\u201c' in position 0: ordinal not in range(256)"
     ]
    }
   ],
   "source": [
    "# Use the Alpaca get_bars function to get current closing prices the portfolio\n",
    "# Be sure to set the `df` property after the function to format the response object as a DataFrame\n",
    "# YOUR CODE HERE\n",
    "\n",
    "#display(tradeapi.REST(alpaca_api_key, alpaca_secret_key, api_version=\"v2\").get_account())\n",
    "\n",
    "response_df = alpaca.get_bars(\n",
    "    tickers,\n",
    "    timeframe,\n",
    "    start=start_date,\n",
    "    end=end_date\n",
    ").df\n",
    "# Reorganize the DataFrame\n",
    "# Separate ticker data\n",
    "# YOUR CODE HERE\n",
    "\n",
    "spy = response_df[response_df[\"symbol\"] == \"SPY\"].drop(\"symbol\", axis=1)\n",
    "agg = response_df[response_df[\"symbol\"] == \"AGG\"].drop(\"symbol\", axis=1)\n",
    "\n",
    "# Concatenate the ticker DataFrames\n",
    "# YOUR CODE HERE\n",
    "\n",
    "stock_df = pd.concat([spy, agg], index=[\"SPY\", \"AGG\"])\n",
    "\n",
    "# Review the first 5 rows of the Alpaca DataFrame\n",
    "# YOUR CODE HERE\n",
    "\n",
    "display(stock_df.head())"
   ]
  },
  {
   "cell_type": "markdown",
   "metadata": {},
   "source": [
    "#### Step 5: Navigating the Alpaca response DataFrame, select the `SPY` and `AGG` closing prices, and store them as variables."
   ]
  },
  {
   "cell_type": "code",
   "execution_count": 23,
   "metadata": {},
   "outputs": [
    {
     "ename": "NameError",
     "evalue": "name 'stock_df' is not defined",
     "output_type": "error",
     "traceback": [
      "\u001b[0;31m---------------------------------------------------------------------------\u001b[0m",
      "\u001b[0;31mNameError\u001b[0m                                 Traceback (most recent call last)",
      "\u001b[1;32m/Users/RishiPrasadha/Desktop/FinTech-Workspace/Module_Challenges/RICE-FINTECH-05_Challenge/Starter_Code-4/financial_planning_tools.ipynb Cell 32'\u001b[0m in \u001b[0;36m<cell line: 3>\u001b[0;34m()\u001b[0m\n\u001b[1;32m      <a href='vscode-notebook-cell:/Users/RishiPrasadha/Desktop/FinTech-Workspace/Module_Challenges/RICE-FINTECH-05_Challenge/Starter_Code-4/financial_planning_tools.ipynb#ch0000031?line=0'>1</a>\u001b[0m \u001b[39m# Access the closing price for AGG from the Alpaca DataFrame\u001b[39;00m\n\u001b[1;32m      <a href='vscode-notebook-cell:/Users/RishiPrasadha/Desktop/FinTech-Workspace/Module_Challenges/RICE-FINTECH-05_Challenge/Starter_Code-4/financial_planning_tools.ipynb#ch0000031?line=1'>2</a>\u001b[0m \u001b[39m# Converting the value to a floating point number\u001b[39;00m\n\u001b[0;32m----> <a href='vscode-notebook-cell:/Users/RishiPrasadha/Desktop/FinTech-Workspace/Module_Challenges/RICE-FINTECH-05_Challenge/Starter_Code-4/financial_planning_tools.ipynb#ch0000031?line=2'>3</a>\u001b[0m agg_close_price \u001b[39m=\u001b[39m stock_df[\u001b[39m\"\u001b[39m\u001b[39mAGG\u001b[39m\u001b[39m\"\u001b[39m][\u001b[39m\"\u001b[39m\u001b[39mclose\u001b[39m\u001b[39m\"\u001b[39m]\n\u001b[1;32m      <a href='vscode-notebook-cell:/Users/RishiPrasadha/Desktop/FinTech-Workspace/Module_Challenges/RICE-FINTECH-05_Challenge/Starter_Code-4/financial_planning_tools.ipynb#ch0000031?line=4'>5</a>\u001b[0m \u001b[39m# Print the AGG closing price\u001b[39;00m\n\u001b[1;32m      <a href='vscode-notebook-cell:/Users/RishiPrasadha/Desktop/FinTech-Workspace/Module_Challenges/RICE-FINTECH-05_Challenge/Starter_Code-4/financial_planning_tools.ipynb#ch0000031?line=5'>6</a>\u001b[0m \u001b[39m# YOUR CODE HERE\u001b[39;00m\n\u001b[1;32m      <a href='vscode-notebook-cell:/Users/RishiPrasadha/Desktop/FinTech-Workspace/Module_Challenges/RICE-FINTECH-05_Challenge/Starter_Code-4/financial_planning_tools.ipynb#ch0000031?line=7'>8</a>\u001b[0m display(\u001b[39mf\u001b[39m\u001b[39m\"\u001b[39m\u001b[39m$\u001b[39m\u001b[39m{\u001b[39;00magg_close_price\u001b[39m:\u001b[39;00m\u001b[39m.2f\u001b[39m\u001b[39m}\u001b[39;00m\u001b[39m\"\u001b[39m)\n",
      "\u001b[0;31mNameError\u001b[0m: name 'stock_df' is not defined"
     ]
    }
   ],
   "source": [
    "# Access the closing price for AGG from the Alpaca DataFrame\n",
    "# Converting the value to a floating point number\n",
    "agg_close_price = stock_df[\"AGG\"][\"close\"]\n",
    "\n",
    "# Print the AGG closing price\n",
    "# YOUR CODE HERE\n",
    "\n",
    "display(f\"${agg_close_price:.2f}\")"
   ]
  },
  {
   "cell_type": "code",
   "execution_count": null,
   "metadata": {},
   "outputs": [],
   "source": [
    "# Access the closing price for SPY from the Alpaca DataFrame\n",
    "# Converting the value to a floating point number\n",
    "spy_close_price = stock_df[\"SPY\"][\"close\"]\n",
    "\n",
    "# Print the SPY closing price\n",
    "# YOUR CODE HERE\n",
    "\n",
    "display(f\"${spy_close_price:.2f}\")"
   ]
  },
  {
   "cell_type": "markdown",
   "metadata": {},
   "source": [
    "#### Step 6: Calculate the value, in US dollars, of the current amount of shares in each of the stock and bond portions of the portfolio, and print the results."
   ]
  },
  {
   "cell_type": "code",
   "execution_count": null,
   "metadata": {},
   "outputs": [],
   "source": [
    "# Calculate the current value of the bond portion of the portfolio\n",
    "agg_value = agg_close_price * agg_shares\n",
    "\n",
    "# Print the current value of the bond portfolio\n",
    "# YOUR CODE HERE\n",
    "display(f\"${agg_value:.2f}\")"
   ]
  },
  {
   "cell_type": "code",
   "execution_count": null,
   "metadata": {},
   "outputs": [],
   "source": [
    "# Calculate the current value of the stock portion of the portfolio\n",
    "spy_value = spy_close_price * spy_shares\n",
    "\n",
    "# Print the current value of the stock portfolio\n",
    "# YOUR CODE HERE\n",
    "\n",
    "display(f\"${spy_value:.2f}\")"
   ]
  },
  {
   "cell_type": "code",
   "execution_count": null,
   "metadata": {},
   "outputs": [],
   "source": [
    "# Calculate the total value of the stock and bond portion of the portfolio\n",
    "total_stocks_bonds = spy_value + agg_value\n",
    "\n",
    "# Print the current balance of the stock and bond portion of the portfolio\n",
    "# YOUR CODE HERE\n",
    "\n",
    "display(f\"${total_stocks_bonds:.2f}\")"
   ]
  },
  {
   "cell_type": "code",
   "execution_count": null,
   "metadata": {},
   "outputs": [],
   "source": [
    "# Calculate the total value of the member's entire savings portfolio\n",
    "# Add the value of the cryptocurrency walled to the value of the total stocks and bonds\n",
    "total_portfolio = total_crypto_wallet + total_stocks_bonds\n",
    "\n",
    "# Print current cryptocurrency wallet balance\n",
    "# YOUR CODE HERE\n",
    "\n",
    "display(f\"${total_crypto_wallet:.2f}\")"
   ]
  },
  {
   "cell_type": "markdown",
   "metadata": {},
   "source": [
    "### Evaluate the Emergency Fund\n",
    "\n",
    "In this section, you’ll use the valuations for the cryptocurrency wallet and for the stock and bond portions of the portfolio to determine if the credit union member has enough savings to build an emergency fund into their financial plan. To do this, complete the following steps:\n",
    "\n",
    "1. Create a Python list named `savings_data` that has two elements. The first element contains the total value of the cryptocurrency wallet. The second element contains the total value of the stock and bond portions of the portfolio.\n",
    "\n",
    "2. Use the `savings_data` list to create a Pandas DataFrame named `savings_df`, and then display this DataFrame. The function to create the DataFrame should take the following three parameters:\n",
    "\n",
    "    - `savings_data`: Use the list that you just created.\n",
    "\n",
    "    - `columns`: Set this parameter equal to a Python list with a single value called `amount`.\n",
    "\n",
    "    - `index`: Set this parameter equal to a Python list with the values of `crypto` and `stock/bond`.\n",
    "\n",
    "3. Use the `savings_df` DataFrame to plot a pie chart that visualizes the composition of the member’s portfolio. The y-axis of the pie chart uses `amount`. Be sure to add a title.\n",
    "\n",
    "4. Using Python, determine if the current portfolio has enough to create an emergency fund as part of the member’s financial plan. Ideally, an emergency fund should equal to three times the member’s monthly income. To do this, implement the following steps:\n",
    "\n",
    "    1. Create a variable named `emergency_fund_value`, and set it equal to three times the value of the member’s `monthly_income` of $12000. (You set this earlier in Part 1).\n",
    "\n",
    "    2. Create a series of three if statements to determine if the member’s total portfolio is large enough to fund the emergency portfolio:\n",
    "\n",
    "        1. If the total portfolio value is greater than the emergency fund value, display a message congratulating the member for having enough money in this fund.\n",
    "\n",
    "        2. Else if the total portfolio value is equal to the emergency fund value, display a message congratulating the member on reaching this important financial goal.\n",
    "\n",
    "        3. Else the total portfolio is less than the emergency fund value, so display a message showing how many dollars away the member is from reaching the goal. (Subtract the total portfolio value from the emergency fund value.)\n"
   ]
  },
  {
   "cell_type": "markdown",
   "metadata": {},
   "source": [
    "#### Step 1: Create a Python list named `savings_data` that has two elements. The first element contains the total value of the cryptocurrency wallet. The second element contains the total value of the stock and bond portions of the portfolio."
   ]
  },
  {
   "cell_type": "code",
   "execution_count": 22,
   "metadata": {},
   "outputs": [
    {
     "ename": "NameError",
     "evalue": "name 'total_stocks_bonds' is not defined",
     "output_type": "error",
     "traceback": [
      "\u001b[0;31m---------------------------------------------------------------------------\u001b[0m",
      "\u001b[0;31mNameError\u001b[0m                                 Traceback (most recent call last)",
      "\u001b[1;32m/Users/RishiPrasadha/Desktop/FinTech-Workspace/Module_Challenges/RICE-FINTECH-05_Challenge/Starter_Code-4/financial_planning_tools.ipynb Cell 41'\u001b[0m in \u001b[0;36m<cell line: 3>\u001b[0;34m()\u001b[0m\n\u001b[1;32m      <a href='vscode-notebook-cell:/Users/RishiPrasadha/Desktop/FinTech-Workspace/Module_Challenges/RICE-FINTECH-05_Challenge/Starter_Code-4/financial_planning_tools.ipynb#ch0000040?line=0'>1</a>\u001b[0m \u001b[39m# Consolidate financial assets data into a Python list\u001b[39;00m\n\u001b[1;32m      <a href='vscode-notebook-cell:/Users/RishiPrasadha/Desktop/FinTech-Workspace/Module_Challenges/RICE-FINTECH-05_Challenge/Starter_Code-4/financial_planning_tools.ipynb#ch0000040?line=1'>2</a>\u001b[0m \u001b[39m# YOUR CODE HERE\u001b[39;00m\n\u001b[0;32m----> <a href='vscode-notebook-cell:/Users/RishiPrasadha/Desktop/FinTech-Workspace/Module_Challenges/RICE-FINTECH-05_Challenge/Starter_Code-4/financial_planning_tools.ipynb#ch0000040?line=2'>3</a>\u001b[0m savings_data \u001b[39m=\u001b[39m [total_crypto_wallet, total_stocks_bonds]\n\u001b[1;32m      <a href='vscode-notebook-cell:/Users/RishiPrasadha/Desktop/FinTech-Workspace/Module_Challenges/RICE-FINTECH-05_Challenge/Starter_Code-4/financial_planning_tools.ipynb#ch0000040?line=4'>5</a>\u001b[0m \u001b[39m# Review the Python list savings_data\u001b[39;00m\n\u001b[1;32m      <a href='vscode-notebook-cell:/Users/RishiPrasadha/Desktop/FinTech-Workspace/Module_Challenges/RICE-FINTECH-05_Challenge/Starter_Code-4/financial_planning_tools.ipynb#ch0000040?line=5'>6</a>\u001b[0m \u001b[39m# YOUR CODE HERE\u001b[39;00m\n\u001b[1;32m      <a href='vscode-notebook-cell:/Users/RishiPrasadha/Desktop/FinTech-Workspace/Module_Challenges/RICE-FINTECH-05_Challenge/Starter_Code-4/financial_planning_tools.ipynb#ch0000040?line=6'>7</a>\u001b[0m display(savings_data)\n",
      "\u001b[0;31mNameError\u001b[0m: name 'total_stocks_bonds' is not defined"
     ]
    }
   ],
   "source": [
    "# Consolidate financial assets data into a Python list\n",
    "# YOUR CODE HERE\n",
    "savings_data = [total_crypto_wallet, total_stocks_bonds]\n",
    "\n",
    "# Review the Python list savings_data\n",
    "# YOUR CODE HERE\n",
    "display(savings_data)"
   ]
  },
  {
   "cell_type": "markdown",
   "metadata": {},
   "source": [
    "#### Step 2: Use the `savings_data` list to create a Pandas DataFrame named `savings_df`, and then display this DataFrame. The function to create the DataFrame should take the following three parameters:\n",
    "\n",
    "- `savings_data`: Use the list that you just created.\n",
    "\n",
    "- `columns`: Set this parameter equal to a Python list with a single value called `amount`.\n",
    "\n",
    "- `index`: Set this parameter equal to a Python list with the values of `crypto` and `stock/bond`.\n"
   ]
  },
  {
   "cell_type": "code",
   "execution_count": null,
   "metadata": {},
   "outputs": [],
   "source": [
    "# Create a Pandas DataFrame called savings_df \n",
    "# YOUR CODE HERE\n",
    "\n",
    "savings_df = pd.DataFrame(savings_data, columns=\"amount\", index=[\"Crypto\", \"Stocks/Bonds\"])\n",
    "# Display the savings_df DataFrame\n",
    "# YOUR CODE HERE\n",
    "\n",
    "display(savings_df)"
   ]
  },
  {
   "cell_type": "markdown",
   "metadata": {},
   "source": [
    "#### Step 3: Use the `savings_df` DataFrame to plot a pie chart that visualizes the composition of the member’s portfolio. The y-axis of the pie chart uses `amount`. Be sure to add a title."
   ]
  },
  {
   "cell_type": "code",
   "execution_count": null,
   "metadata": {},
   "outputs": [],
   "source": [
    "# Plot the total value of the member's portfolio (crypto and stock/bond) in a pie chart\n",
    "# YOUR CODE HERE\n",
    "savings_df.plot(legend=True, kind=\"pie\", title=\"Family Total Savings\")"
   ]
  },
  {
   "cell_type": "markdown",
   "metadata": {},
   "source": [
    "#### Step 4: Using Python, determine if the current portfolio has enough to create an emergency fund as part of the member’s financial plan. Ideally, an emergency fund should equal to three times the member’s monthly income. To do this, implement the following steps:\n",
    "\n",
    "Step 1. Create a variable named `emergency_fund_value`, and set it equal to three times the value of the member’s `monthly_income` of 12000. (You set this earlier in Part 1).\n",
    "\n",
    "Step 2. Create a series of three if statements to determine if the member’s total portfolio is large enough to fund the emergency portfolio:\n",
    "\n",
    "* If the total portfolio value is greater than the emergency fund value, display a message congratulating the member for having enough money in this fund.\n",
    "\n",
    "* Else if the total portfolio value is equal to the emergency fund value, display a message congratulating the member on reaching this important financial goal.\n",
    "\n",
    "* Else the total portfolio is less than the emergency fund value, so display a message showing how many dollars away the member is from reaching the goal. (Subtract the total portfolio value from the emergency fund value.)\n"
   ]
  },
  {
   "cell_type": "markdown",
   "metadata": {},
   "source": [
    "##### Step 4-1: Create a variable named `emergency_fund_value`, and set it equal to three times the value of the member’s `monthly_income` of 12000. (You set this earlier in Part 1)."
   ]
  },
  {
   "cell_type": "code",
   "execution_count": null,
   "metadata": {},
   "outputs": [],
   "source": [
    "# Create a variable named emergency_fund_value\n",
    "# YOUR CODE HERE\n",
    "\n",
    "emergency_fund_value = monthly_income * 3"
   ]
  },
  {
   "cell_type": "markdown",
   "metadata": {},
   "source": [
    "##### Step 4-2: Create a series of three if statements to determine if the member’s total portfolio is large enough to fund the emergency portfolio:\n",
    "\n",
    "* If the total portfolio value is greater than the emergency fund value, display a message congratulating the member for having enough money in this fund.\n",
    "\n",
    "* Else if the total portfolio value is equal to the emergency fund value, display a message congratulating the member on reaching this important financial goal.\n",
    "\n",
    "* Else the total portfolio is less than the emergency fund value, so display a message showing how many dollars away the member is from reaching the goal. (Subtract the total portfolio value from the emergency fund value.)"
   ]
  },
  {
   "cell_type": "code",
   "execution_count": null,
   "metadata": {},
   "outputs": [],
   "source": [
    "# Evaluate the possibility of creating an emergency fund with 3 conditions:\n",
    "# YOUR CODE HERE\n",
    "# YOUR CODE HERE\n",
    "# YOUR CODE HERE\n",
    "\n",
    "if total_portfolio > emergency_fund_value:\n",
    "    display(\"Congratulations, you have enough money in this fund!\")\n",
    "elif total_portfolio = emergency_fund_value:\n",
    "    display(\"Congratulation your portfolio has matched your emergency fund goal\")\n",
    "else:\n",
    "    display(f\"You are ${emergency_fund_value - total_portfolio} away from reaching your goal\")"
   ]
  },
  {
   "cell_type": "markdown",
   "metadata": {},
   "source": [
    "## Part 2: Create a Financial Planner for Retirement"
   ]
  },
  {
   "cell_type": "markdown",
   "metadata": {},
   "source": [
    "### Create the Monte Carlo Simulation\n",
    "\n",
    "In this section, you’ll use the MCForecastTools library to create a Monte Carlo simulation for the member’s savings portfolio. To do this, complete the following steps:\n",
    "\n",
    "1. Make an API call via the Alpaca SDK to get 3 years of historical closing prices for a traditional 60/40 portfolio split: 60% stocks (SPY) and 40% bonds (AGG).\n",
    "\n",
    "2. Run a Monte Carlo simulation of 500 samples and 30 years for the 60/40 portfolio, and then plot the results.The following image shows the overlay line plot resulting from a simulation with these characteristics. However, because a random number generator is used to run each live Monte Carlo simulation, your image will differ slightly from this exact image:\n",
    "\n",
    "![A screenshot depicts the resulting plot.](Images/5-4-monte-carlo-line-plot.png)\n",
    "\n",
    "3. Plot the probability distribution of the Monte Carlo simulation. Plot the probability distribution of the Monte Carlo simulation. The following image shows the histogram plot resulting from a simulation with these characteristics. However, because a random number generator is used to run each live Monte Carlo simulation, your image will differ slightly from this exact image:\n",
    "\n",
    "![A screenshot depicts the histogram plot.](Images/5-4-monte-carlo-histogram.png)\n",
    "\n",
    "4. Generate the summary statistics for the Monte Carlo simulation.\n",
    "\n"
   ]
  },
  {
   "cell_type": "markdown",
   "metadata": {},
   "source": [
    "#### Step 1: Make an API call via the Alpaca SDK to get 3 years of historical closing prices for a traditional 60/40 portfolio split: 60% stocks (SPY) and 40% bonds (AGG)."
   ]
  },
  {
   "cell_type": "code",
   "execution_count": null,
   "metadata": {},
   "outputs": [],
   "source": [
    "# Set start and end dates of 3 years back from your current date\n",
    "# Alternatively, you can use an end date of 2020-08-07 and work 3 years back from that date \n",
    "# YOUR CODE HERE\n",
    "# YOUR CODE HERE\n",
    "\n",
    "start_date = pd.Timestamp(\"2017-08-07\", tz=\"America/New_York\").isoformat()\n",
    "end_date = pd.Timestamp(\"2020-08-07\", tz=\"America/New_York\").isoformat()"
   ]
  },
  {
   "cell_type": "code",
   "execution_count": null,
   "metadata": {},
   "outputs": [],
   "source": [
    "# Use the Alpaca get_bars function to make the API call to get the 3 years worth of pricing data\n",
    "# The tickers and timeframe parameters should have been set in Part 1 of this activity \n",
    "# The start and end dates should be updated with the information set above\n",
    "# Remember to add the df property to the end of the call so the response is returned as a DataFrame\n",
    "# YOUR CODE HERE\n",
    "\n",
    "response2_df = alpaca.get_bars(\n",
    "    tickers,\n",
    "    timeframe,\n",
    "    start=start_date,\n",
    "    end=end_date\n",
    ").df\n",
    "# Reorganize the DataFrame\n",
    "# Separate ticker data\n",
    "# YOUR CODE HERE\n",
    "\n",
    "spy2 = response2_df[response2_df[\"symbol\"] == \"SPY\"].drop(\"symbol\", axis=1)\n",
    "agg2 = response2_df[response2_df[\"symbol\"] == \"AGG\"].drop(\"symbol\", axis=1)\n",
    "# Concatenate the ticker DataFrames\n",
    "# YOUR CODE HERE\n",
    "\n",
    "stock2_df = pd.concat([spy2, agg2], columns=[\"SPY\", \"AGG\"])\n",
    "\n",
    "# Display both the first and last five rows of the DataFrame\n",
    "# YOUR CODE HERE\n",
    "# YOUR CODE HERE\n",
    "\n",
    "display(stock2_df.head())\n",
    "display(stock2_df.tail())"
   ]
  },
  {
   "cell_type": "markdown",
   "metadata": {},
   "source": [
    "#### Step 2: Run a Monte Carlo simulation of 500 samples and 30 years for the 60/40 portfolio, and then plot the results."
   ]
  },
  {
   "cell_type": "code",
   "execution_count": null,
   "metadata": {},
   "outputs": [],
   "source": [
    "# Configure the Monte Carlo simulation to forecast 30 years cumulative returns\n",
    "# The weights should be split 40% to AGG and 60% to SPY.\n",
    "# Run 500 samples.\n",
    "# YOUR CODE HERE\n",
    "MC_run = MCSimulation(\n",
    "    portfolio_data = stock2_df,\n",
    "    weights= [.6, .4],\n",
    "    num_simulation=500,\n",
    "    num_trading_days=252*30\n",
    ")\n",
    "# Review the simulation input data\n",
    "# YOUR CODE HERE\n",
    "\n",
    "MC_run.portfolio_data.head()\n"
   ]
  },
  {
   "cell_type": "code",
   "execution_count": null,
   "metadata": {},
   "outputs": [],
   "source": [
    "# Run the Monte Carlo simulation to forecast 30 years cumulative returns\n",
    "# YOUR CODE HERE\n",
    "\n",
    "MC_run.calc_cumulative_return()"
   ]
  },
  {
   "cell_type": "code",
   "execution_count": null,
   "metadata": {},
   "outputs": [],
   "source": [
    "# Visualize the 30-year Monte Carlo simulation by creating an\n",
    "# overlay line plot\n",
    "# YOUR CODE HERE\n",
    "line_plot = MC_run.plot_simulation()"
   ]
  },
  {
   "cell_type": "markdown",
   "metadata": {},
   "source": [
    "#### Step 3: Plot the probability distribution of the Monte Carlo simulation."
   ]
  },
  {
   "cell_type": "code",
   "execution_count": null,
   "metadata": {},
   "outputs": [],
   "source": [
    "# Visualize the probability distribution of the 30-year Monte Carlo simulation \n",
    "# by plotting a histogram\n",
    "# YOUR CODE HERE\n",
    "\n",
    "hist_plot = MC_run.plot_distribution()"
   ]
  },
  {
   "cell_type": "markdown",
   "metadata": {},
   "source": [
    "#### Step 4: Generate the summary statistics for the Monte Carlo simulation."
   ]
  },
  {
   "cell_type": "code",
   "execution_count": null,
   "metadata": {},
   "outputs": [],
   "source": [
    "# Generate summary statistics from the 30-year Monte Carlo simulation results\n",
    "# Save the results as a variable\n",
    "# YOUR CODE HERE\n",
    "\n",
    "MC_table = MC_run.summarize_cumulative_return()\n",
    "\n",
    "# Review the 30-year Monte Carlo summary statistics\n",
    "# YOUR CODE HERE\n",
    "display(MC_table)"
   ]
  },
  {
   "cell_type": "markdown",
   "metadata": {},
   "source": [
    "### Analyze the Retirement Portfolio Forecasts\n",
    "\n",
    "Using the current value of only the stock and bond portion of the member's portfolio and the summary statistics that you generated from the Monte Carlo simulation, answer the following question in your Jupyter notebook:\n",
    "\n",
    "-  What are the lower and upper bounds for the expected value of the portfolio with a 95% confidence interval?\n"
   ]
  },
  {
   "cell_type": "code",
   "execution_count": null,
   "metadata": {},
   "outputs": [],
   "source": [
    "# Print the current balance of the stock and bond portion of the members portfolio\n",
    "# YOUR CODE HERE\n",
    "\n",
    "display(total_portfolio)"
   ]
  },
  {
   "cell_type": "code",
   "execution_count": null,
   "metadata": {},
   "outputs": [],
   "source": [
    "# Use the lower and upper `95%` confidence intervals to calculate the range of the possible outcomes for the current stock/bond portfolio\n",
    "ci_lower_thirty_cumulative_return = round(MC_table[8]*total_portfolio,2)\n",
    "ci_upper_thirty_cumulative_return = round(MC_table[9]*total_portfolio,2)\n",
    "\n",
    "# Print the result of your calculations\n",
    "# YOUR CODE HERE\n",
    "\n",
    "print(f\"There is a 95% chance that an initial investment of {total_portfolio:.2f} in the portfolio\"\n",
    "      f\" with a 60% weight in SPY and 40% AGG over the next 30 years will end within in the range of\"\n",
    "      f\" ${ci_lower_thirty_cumulative_return} and ${ci_upper_thirty_cumulative_return}.\")"
   ]
  },
  {
   "cell_type": "markdown",
   "metadata": {},
   "source": [
    "### Forecast Cumulative Returns in 10 Years\n",
    "\n",
    "The CTO of the credit union is impressed with your work on these planning tools but wonders if 30 years is a long time to wait until retirement. So, your next task is to adjust the retirement portfolio and run a new Monte Carlo simulation to find out if the changes will allow members to retire earlier.\n",
    "\n",
    "For this new Monte Carlo simulation, do the following: \n",
    "\n",
    "- Forecast the cumulative returns for 10 years from now. Because of the shortened investment horizon (30 years to 10 years), the portfolio needs to invest more heavily in the riskier asset&mdash;that is, stock&mdash;to help accumulate wealth for retirement. \n",
    "\n",
    "- Adjust the weights of the retirement portfolio so that the composition for the Monte Carlo simulation consists of 20% bonds and 80% stocks. \n",
    "\n",
    "- Run the simulation over 500 samples, and use the same data that the API call to Alpaca generated.\n",
    "\n",
    "- Based on the new Monte Carlo simulation, answer the following questions in your Jupyter notebook:\n",
    "\n",
    "    - Using the current value of only the stock and bond portion of the member's portfolio and the summary statistics that you generated from the new Monte Carlo simulation, what are the lower and upper bounds for the expected value of the portfolio (with the new weights) with a 95% confidence interval?\n",
    "\n",
    "    - Will weighting the portfolio more heavily toward stocks allow the credit union members to retire after only 10 years?\n"
   ]
  },
  {
   "cell_type": "code",
   "execution_count": null,
   "metadata": {},
   "outputs": [],
   "source": [
    "# Configure a Monte Carlo simulation to forecast 10 years cumulative returns\n",
    "# The weights should be split 20% to AGG and 80% to SPY.\n",
    "# Run 500 samples.\n",
    "# YOUR CODE HERE\n",
    "\n",
    "MC_run2 = MCSimulation(\n",
    "    portfolio_data=stock2_df,\n",
    "    weights=[.8, .2],\n",
    "    num_simulation=500,\n",
    "    num_trading_days=252*10\n",
    ")\n",
    "# Review the simulation input data\n",
    "# YOUR CODE HERE\n",
    "\n",
    "MC_run2.portfolio_data.head()"
   ]
  },
  {
   "cell_type": "code",
   "execution_count": null,
   "metadata": {},
   "outputs": [],
   "source": [
    "# Run the Monte Carlo simulation to forecast 10 years cumulative returns\n",
    "# YOUR CODE HERE\n",
    "\n",
    "MC_run2.calc_cumulative_return()"
   ]
  },
  {
   "cell_type": "code",
   "execution_count": null,
   "metadata": {},
   "outputs": [],
   "source": [
    "# Visualize the 10-year Monte Carlo simulation by creating an\n",
    "# overlay line plot\n",
    "# YOUR CODE HERE\n",
    "\n",
    "line_plot2 = MC_run2.plot_simulation()"
   ]
  },
  {
   "cell_type": "code",
   "execution_count": null,
   "metadata": {},
   "outputs": [],
   "source": [
    "# Visualize the probability distribution of the 10-year Monte Carlo simulation \n",
    "# by plotting a histogram\n",
    "# YOUR CODE HERE\n",
    "\n",
    "hist_plot = MC_run2.plot_distribution()"
   ]
  },
  {
   "cell_type": "code",
   "execution_count": null,
   "metadata": {},
   "outputs": [],
   "source": [
    "# Generate summary statistics from the 10-year Monte Carlo simulation results\n",
    "# Save the results as a variable\n",
    "# YOUR CODE HERE\n",
    "\n",
    "MC2_table = MC_run2.summarize_cumulative_return() \n",
    "\n",
    "# Review the 10-year Monte Carlo summary statistics\n",
    "# YOUR CODE HERE\n",
    "\n",
    "print(MC2_summary)"
   ]
  },
  {
   "cell_type": "markdown",
   "metadata": {},
   "source": [
    "### Answer the following questions:"
   ]
  },
  {
   "cell_type": "markdown",
   "metadata": {},
   "source": [
    "#### Question: Using the current value of only the stock and bond portion of the member's portfolio and the summary statistics that you generated from the new Monte Carlo simulation, what are the lower and upper bounds for the expected value of the portfolio (with the new weights) with a 95% confidence interval?"
   ]
  },
  {
   "cell_type": "code",
   "execution_count": null,
   "metadata": {},
   "outputs": [],
   "source": [
    "# Print the current balance of the stock and bond portion of the members portfolio\n",
    "# YOUR CODE HERE\n",
    "print(total_portfolio)"
   ]
  },
  {
   "cell_type": "code",
   "execution_count": null,
   "metadata": {},
   "outputs": [],
   "source": [
    "# Use the lower and upper `95%` confidence intervals to calculate the range of the possible outcomes for the current stock/bond portfolio\n",
    "ci_lower_ten_cumulative_return = round(MC2_table[8]*total_portfolio, 2)\n",
    "ci_upper_ten_cumulative_return = round(MC2_table[9]*total_portfolio, 2)\n",
    "\n",
    "# Print the result of your calculations\n",
    "# YOUR CODE HERE\n",
    "\n",
    "print(f\"There is a 95% chance that an initial investment of {total_portfolio:.2f} in the portfolio\"\n",
    "      f\" with a 80% weight in SPY and 20% AGG over the next 10 years will end within in the range of\"\n",
    "      f\" ${ci_lower_ten_cumulative_return} and ${ci_upper_ten_cumulative_return}.\")\n"
   ]
  },
  {
   "cell_type": "markdown",
   "metadata": {},
   "source": [
    "#### Question: Will weighting the portfolio more heavily to stocks allow the credit union members to retire after only 10 years?"
   ]
  },
  {
   "cell_type": "raw",
   "metadata": {},
   "source": [
    "**Answer** # YOUR ANSWER HERE"
   ]
  },
  {
   "cell_type": "code",
   "execution_count": null,
   "metadata": {},
   "outputs": [],
   "source": []
  },
  {
   "cell_type": "code",
   "execution_count": 24,
   "metadata": {},
   "outputs": [
    {
     "ename": "SyntaxError",
     "evalue": "invalid character in identifier (1077573672.py, line 4)",
     "output_type": "error",
     "traceback": [
      "\u001b[0;36m  Input \u001b[0;32mIn [24]\u001b[0;36m\u001b[0m\n\u001b[0;31m    ALPACA_API_KEY = “PKMTD0L10F7IJFR0OPS5”\u001b[0m\n\u001b[0m                                          ^\u001b[0m\n\u001b[0;31mSyntaxError\u001b[0m\u001b[0;31m:\u001b[0m invalid character in identifier\n"
     ]
    }
   ],
   "source": [
    "import alpaca_trade_api as tradeapi\n",
    "from alpaca_trade_api.rest import TimeFrame\n",
    "\n",
    "ALPACA_API_KEY = “PKMTD0L10F7IJFR0OPS5”\n",
    "ALPACA_SECRET_KEY =  “7v0ESrZCa3gsA8HyY2oDN3HMBbQceugwFZfa71zb”\n",
    "\n",
    "api = tradeapi.REST(\n",
    "  key_id=ALPACA_API_KEY,\n",
    "  secret_key=ALPACA_SECRET_KEY,\n",
    "  api_version='v2',\n",
    "  base_url='https://paper-api.alpaca.markets'\n",
    ")\n",
    "\n",
    "api.get_bars(\n",
    "  symbol='AAPL',\n",
    "  timeframe=TimeFrame.Minute,\n",
    "  start=\"2019-04-15T09:30:00-04:00\", \n",
    "  end=\"2019-04-16T09:30:00-04:00\", \n",
    "  limit=10, \n",
    ")"
   ]
  }
 ],
 "metadata": {
  "kernelspec": {
   "display_name": "Python 3 (ipykernel)",
   "language": "python",
   "name": "python3"
  },
  "language_info": {
   "codemirror_mode": {
    "name": "ipython",
    "version": 3
   },
   "file_extension": ".py",
   "mimetype": "text/x-python",
   "name": "python",
   "nbconvert_exporter": "python",
   "pygments_lexer": "ipython3",
   "version": "3.8.13"
  },
  "vscode": {
   "interpreter": {
    "hash": "4396f389b93e7269692bd3bea4c62813bbe379469bde939b058805f538feec11"
   }
  }
 },
 "nbformat": 4,
 "nbformat_minor": 4
}
